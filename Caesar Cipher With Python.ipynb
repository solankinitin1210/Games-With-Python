{
  "nbformat": 4,
  "nbformat_minor": 0,
  "metadata": {
    "colab": {
      "provenance": [],
      "authorship_tag": "ABX9TyMZ3B7GfmVqTpivwbHBCK4E",
      "include_colab_link": true
    },
    "kernelspec": {
      "name": "python3",
      "display_name": "Python 3"
    },
    "language_info": {
      "name": "python"
    }
  },
  "cells": [
    {
      "cell_type": "markdown",
      "metadata": {
        "id": "view-in-github",
        "colab_type": "text"
      },
      "source": [
        "<a href=\"https://colab.research.google.com/github/solankinitin1210/Games-With-Python/blob/main/Caesar%20Cipher.ipynb\" target=\"_parent\"><img src=\"https://colab.research.google.com/assets/colab-badge.svg\" alt=\"Open In Colab\"/></a>"
      ]
    },
    {
      "cell_type": "markdown",
      "source": [
        "**What is Caesar Cipher ?**\n",
        "\n",
        "The Caesar Cipher, used by Julius Caesar around 58 BC, is a substitution cipher that shifts letters in a message to make it unreadable if intercepted. To decrypt, the receiver reverses the shift. Arab mathematician Al-Kindi broke the Caesar Cipher using frequency analysis, which exploits patterns in letter frequencies.\n",
        "\n",
        "The Caesar Cipher technique is one of the earliest and simplest methods of encryption technique. It’s simply a type of substitution cipher, i.e., each letter of a given text is replaced by a letter with a fixed number of positions down the alphabet. For example with a shift of 1, A would be replaced by B, B would become C, and so on.\n",
        "\n",
        "To decrypt the message, you simply need to shift each letter back by the same number of positions.\n",
        "\n",
        "![ceaserCipher.png](data:image/png;base64,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)"
      ],
      "metadata": {
        "id": "z3nxIImCKKQQ"
      }
    },
    {
      "cell_type": "markdown",
      "source": [
        "Here We'll Write A program that receives a Text (string) and Shift value( integer) and returns the encrypted text. Similary For decryption  Text We'll Generated orignal Message and Return Decrypted Text\n"
      ],
      "metadata": {
        "id": "yGLxy0JqLiid"
      }
    },
    {
      "cell_type": "code",
      "execution_count": 51,
      "metadata": {
        "colab": {
          "base_uri": "https://localhost:8080/"
        },
        "id": "lEDAS5SP10JS",
        "outputId": "8be8be53-cd2a-46a8-df2a-46b3ad487d8d"
      },
      "outputs": [
        {
          "output_type": "stream",
          "name": "stdout",
          "text": [
            "           \n",
            " ,adPPYba, ,adPPYYba,  ,adPPYba, ,adPPYba, ,adPPYYba, 8b,dPPYba,  \n",
            "a8\"     \"\" \"\"     `Y8 a8P_____88 I8[    \"\" \"\"     `Y8 88P'   \"Y8  \n",
            "8b         ,adPPPPP88 8PP\"  `\"Y8ba,  ,adPPPPP88 88          \n",
            "\"8a,   ,aa 88,    ,88 \"8b,   ,aa aa    ]8I 88,    ,88 88          \n",
            " `\"Ybbd8\"' `\"8bbdP\"Y8  `\"Ybbd8\"' `\"YbbdP\"' `\"8bbdP\"Y8 88   \n",
            "            88             88                                 \n",
            "           \"\"             88                                 \n",
            "                          88                                 \n",
            " ,adPPYba, 88 8b,dPPYba,  88,dPPYba,   ,adPPYba, 8b,dPPYba,  \n",
            "a8\"     \"\" 88 88P'    \"8a 88P'    \"8a a8P_____88 88P'   \"Y8  \n",
            "8b         88 88       d8 88       88 8PP\" 88          \n",
            "\"8a,   ,aa 88 88b,   ,a8\" 88       88 \"8b,   ,aa 88          \n",
            " `\"Ybbd8\"' 88 88`YbbdP\"'  88       88  `\"Ybbd8\"' 88          \n",
            "              88                                             \n",
            " .             88           \n",
            "\n",
            "Type 'encode' to encrypt, type 'decode' to decrypt:\n",
            "encode\n",
            "Type your message:\n",
            "ABCDEFGHIJKLMNOPQRSTUVWXYZ\n",
            "Type the shift number:\n",
            "23\n",
            "encoded Word is : xyzabcdefghijklmnopqrstuvw\n",
            "Do you Want to Encode-Decode Another Text type Y for Yes ?n\n",
            "Goodby \n"
          ]
        }
      ],
      "source": [
        "alphabet = ['a', 'b', 'c', 'd', 'e', 'f', 'g', 'h', 'i', 'j', 'k', 'l', 'm', 'n', 'o', 'p', 'q', 'r', 's', 't', 'u', 'v', 'w', 'x', 'y', 'z',\n",
        "            'a', 'b', 'c', 'd', 'e', 'f', 'g', 'h', 'i', 'j', 'k', 'l', 'm', 'n', 'o', 'p', 'q', 'r', 's', 't', 'u', 'v', 'w', 'x', 'y', 'z']\n",
        "def encode_decode(direction,text,shift) :\n",
        "  final = ''\n",
        "  for i in text :\n",
        "    if direction == 'encode' and i in (alphabet):\n",
        "      new_num = alphabet.index(i)+(shift%26)\n",
        "      final = final+alphabet[new_num]\n",
        "    elif direction == 'decode' and i in (alphabet):\n",
        "      new_num = alphabet.index(i)-(shift%26)\n",
        "      final = final+alphabet[new_num]\n",
        "    else :\n",
        "       final = final+i\n",
        "  return print(f'{direction}d Word is : {final}')\n",
        "\n",
        "print (\"\"\"\n",
        " ,adPPYba, ,adPPYYba,  ,adPPYba, ,adPPYba, ,adPPYYba, 8b,dPPYba,\n",
        "a8\"     \"\" \"\"     `Y8 a8P_____88 I8[    \"\" \"\"     `Y8 88P'   \"Y8\n",
        "8b         ,adPPPPP88 8PP\"\"\"\"\"\"\"  `\"Y8ba,  ,adPPPPP88 88\n",
        "\"8a,   ,aa 88,    ,88 \"8b,   ,aa aa    ]8I 88,    ,88 88\n",
        " `\"Ybbd8\"' `\"8bbdP\"Y8  `\"Ybbd8\"' `\"YbbdP\"' `\"8bbdP\"Y8 88\n",
        "            88             88\n",
        "           \"\"             88\n",
        "                          88\n",
        " ,adPPYba, 88 8b,dPPYba,  88,dPPYba,   ,adPPYba, 8b,dPPYba,\n",
        "a8\"     \"\" 88 88P'    \"8a 88P'    \"8a a8P_____88 88P'   \"Y8\n",
        "8b         88 88       d8 88       88 8PP\"\"\"\"\"\"\" 88\n",
        "\"8a,   ,aa 88 88b,   ,a8\" 88       88 \"8b,   ,aa 88\n",
        " `\"Ybbd8\"' 88 88`YbbdP\"'  88       88  `\"Ybbd8\"' 88\n",
        "              88\n",
        " .             88\n",
        "\"\"\")\n",
        "\n",
        "while 1 :\n",
        "  direction = input(\"Type 'encode' to encrypt, type 'decode' to decrypt:\\n\")\n",
        "  if direction not in ('encode','decode'):\n",
        "    print('Wrong Input')\n",
        "  else :\n",
        "    text = input(\"Type your message:\\n\").lower()\n",
        "    shift = int(input(\"Type the shift number:\\n\"))\n",
        "    encode_decode(direction,text,shift)\n",
        "\n",
        "  check = input(\"Do you Want to Encode-Decode Another Text type Y for Yes ?\").lower()\n",
        "\n",
        "  if check != 'y' :\n",
        "    print('Goodby ')\n",
        "    break"
      ]
    }
  ]
}
