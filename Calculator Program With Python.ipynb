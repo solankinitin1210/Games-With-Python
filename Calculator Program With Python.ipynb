{
  "nbformat": 4,
  "nbformat_minor": 0,
  "metadata": {
    "colab": {
      "provenance": [],
      "authorship_tag": "ABX9TyN2jSrF64vORKCzX4cOrKGr",
      "include_colab_link": true
    },
    "kernelspec": {
      "name": "python3",
      "display_name": "Python 3"
    },
    "language_info": {
      "name": "python"
    }
  },
  "cells": [
    {
      "cell_type": "markdown",
      "metadata": {
        "id": "view-in-github",
        "colab_type": "text"
      },
      "source": [
        "<a href=\"https://colab.research.google.com/github/solankinitin1210/Games-With-Python/blob/main/Calculator%20Program%20With%20Python.ipynb\" target=\"_parent\"><img src=\"https://colab.research.google.com/assets/colab-badge.svg\" alt=\"Open In Colab\"/></a>"
      ]
    },
    {
      "cell_type": "code",
      "source": [
        "from IPython.display import clear_output"
      ],
      "metadata": {
        "id": "hbRIdhtCTC55"
      },
      "execution_count": 24,
      "outputs": []
    },
    {
      "cell_type": "code",
      "source": [
        "logo = \"\"\"\n",
        " _____________________\n",
        "|  _________________  |\n",
        "| | Pythonista   0. | |  .----------------.  .----------------.  .----------------.  .----------------.\n",
        "| |_________________| | | .--------------. || .--------------. || .--------------. || .--------------. |\n",
        "|  ___ ___ ___   ___  | | |     ______   | || |      __      | || |   _____      | || |     ______   | |\n",
        "| | 7 | 8 | 9 | | + | | | |   .' ___  |  | || |     /  \\     | || |  |_   _|     | || |   .' ___  |  | |\n",
        "| |___|___|___| |___| | | |  / .'   \\_|  | || |    / /\\ \\    | || |    | |       | || |  / .'   \\_|  | |\n",
        "| | 4 | 5 | 6 | | - | | | |  | |         | || |   / ____ \\   | || |    | |   _   | || |  | |         | |\n",
        "| |___|___|___| |___| | | |  \\ `.___.'\\  | || | _/ /    \\ \\_ | || |   _| |__/ |  | || |  \\ `.___.'\\  | |\n",
        "| | 1 | 2 | 3 | | x | | | |   `._____.'  | || ||____|  |____|| || |  |________|  | || |   `._____.'  | |\n",
        "| |___|___|___| |___| | | |              | || |              | || |              | || |              | |\n",
        "| | . | 0 | = | | / | | | '--------------' || '--------------' || '--------------' || '--------------' |\n",
        "| |___|___|___| |___| |  '----------------'  '----------------'  '----------------'  '----------------'\n",
        "|_____________________|\n",
        "\"\"\""
      ],
      "metadata": {
        "id": "HcOGz_6zZutB"
      },
      "execution_count": 29,
      "outputs": []
    },
    {
      "cell_type": "code",
      "source": [
        "def calculation(opp,n1,n2):\n",
        "  if opp == '+':\n",
        "    return n1+n2\n",
        "  elif opp == '-':\n",
        "    return n1-n2\n",
        "  elif opp == '*':\n",
        "    return n1*n2\n",
        "  else :\n",
        "    return n1/n2"
      ],
      "metadata": {
        "id": "9tNluJ1jL2-N"
      },
      "execution_count": 30,
      "outputs": []
    },
    {
      "cell_type": "code",
      "execution_count": 32,
      "metadata": {
        "colab": {
          "base_uri": "https://localhost:8080/"
        },
        "id": "W-YMgRIfHrLc",
        "outputId": "b0844015-067a-4e2f-878b-6b2b898d498e"
      },
      "outputs": [
        {
          "output_type": "stream",
          "name": "stdout",
          "text": [
            "\n",
            " _____________________\n",
            "|  _________________  |\n",
            "| | Pythonista   0. | |  .----------------.  .----------------.  .----------------.  .----------------. \n",
            "| |_________________| | | .--------------. || .--------------. || .--------------. || .--------------. |\n",
            "|  ___ ___ ___   ___  | | |     ______   | || |      __      | || |   _____      | || |     ______   | |\n",
            "| | 7 | 8 | 9 | | + | | | |   .' ___  |  | || |     /  \\     | || |  |_   _|     | || |   .' ___  |  | |\n",
            "| |___|___|___| |___| | | |  / .'   \\_|  | || |    / /\\ \\    | || |    | |       | || |  / .'   \\_|  | |\n",
            "| | 4 | 5 | 6 | | - | | | |  | |         | || |   / ____ \\   | || |    | |   _   | || |  | |         | |\n",
            "| |___|___|___| |___| | | |  \\ `.___.'\\  | || | _/ /    \\ \\_ | || |   _| |__/ |  | || |  \\ `.___.'\\  | |\n",
            "| | 1 | 2 | 3 | | x | | | |   `._____.'  | || ||____|  |____|| || |  |________|  | || |   `._____.'  | |\n",
            "| |___|___|___| |___| | | |              | || |              | || |              | || |              | |\n",
            "| | . | 0 | = | | / | | | '--------------' || '--------------' || '--------------' || '--------------' |\n",
            "| |___|___|___| |___| |  '----------------'  '----------------'  '----------------'  '----------------' \n",
            "|_____________________|\n",
            "\n",
            "Enter 1st Number : 45\n",
            "select the operation from list \n",
            " + \n",
            " - \n",
            " * \n",
            " / \n",
            "*\n",
            "Enter 2nd Number : 2\n",
            "45.0 * 2.0 = 90.0\n",
            "Do you want to do Operation With Result ? Type \"Y\" if Yes, Type \"N\" for New Calculatio Else Type anything to Exitt\n",
            "Ok-Bye\n"
          ]
        }
      ],
      "source": [
        "is_first = True\n",
        "while 1 :\n",
        "  if is_first:\n",
        "    print(logo)\n",
        "    n1 = input('Enter 1st Number : ')\n",
        "    try :\n",
        "      num1 = float(n1)\n",
        "    except :\n",
        "      print('Calculator Except Only Number Enter Number')\n",
        "      continue\n",
        "\n",
        "  while 1 :\n",
        "    opp = input('select the operation from list \\n + \\n - \\n * \\n / \\n')\n",
        "    if opp not in ('+','/','-','*'):\n",
        "      print('Enter Correct Operator')\n",
        "      continue\n",
        "    else :\n",
        "      break\n",
        "\n",
        "  while 1 :\n",
        "    n2 = input('Enter 2nd Number : ')\n",
        "    try :\n",
        "      num2 = float(n2)\n",
        "      break\n",
        "    except :\n",
        "      print('Calculator Except Only Number Enter Number')\n",
        "    continue\n",
        "\n",
        "  result = calculation(opp,num1,num2)\n",
        "  print(f'{num1} {opp} {num2} = {result}')\n",
        "  go_again = input('Do you want to do Operation With Result ? Type \"Y\" if Yes, Type \"N\" for New Calculatio Else Type anything to Exit').lower()\n",
        "  if go_again == 'y':\n",
        "    is_first = False\n",
        "    num1 = result\n",
        "    clear_output()\n",
        "    continue\n",
        "  elif go_again == 'n':\n",
        "    is_first = True\n",
        "    clear_output()\n",
        "  else :\n",
        "    print('Ok-Bye')\n",
        "    break"
      ]
    },
    {
      "cell_type": "code",
      "source": [
        "calculation('+',78,2)"
      ],
      "metadata": {
        "colab": {
          "base_uri": "https://localhost:8080/"
        },
        "id": "2_KCQQ7jO4DU",
        "outputId": "9d60b16e-1ff7-49ce-efaa-09202a58ec0a"
      },
      "execution_count": 13,
      "outputs": [
        {
          "output_type": "execute_result",
          "data": {
            "text/plain": [
              "80"
            ]
          },
          "metadata": {},
          "execution_count": 13
        }
      ]
    }
  ]
}