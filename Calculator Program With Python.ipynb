{
  "nbformat": 4,
  "nbformat_minor": 0,
  "metadata": {
    "colab": {
      "provenance": [],
      "authorship_tag": "ABX9TyMw20/a6a+THsgqWfw5NCw+",
      "include_colab_link": true
    },
    "kernelspec": {
      "name": "python3",
      "display_name": "Python 3"
    },
    "language_info": {
      "name": "python"
    }
  },
  "cells": [
    {
      "cell_type": "markdown",
      "metadata": {
        "id": "view-in-github",
        "colab_type": "text"
      },
      "source": [
        "<a href=\"https://colab.research.google.com/github/solankinitin1210/Games-With-Python/blob/main/Calculator%20Program%20With%20Python.ipynb\" target=\"_parent\"><img src=\"https://colab.research.google.com/assets/colab-badge.svg\" alt=\"Open In Colab\"/></a>"
      ]
    },
    {
      "cell_type": "code",
      "source": [
        "from IPython.display import clear_output"
      ],
      "metadata": {
        "id": "hbRIdhtCTC55"
      },
      "execution_count": 24,
      "outputs": []
    },
    {
      "cell_type": "code",
      "source": [
        "def calculation(opp,n1,n2):\n",
        "  if opp == '+':\n",
        "    return n1+n2\n",
        "  elif opp == '-':\n",
        "    return n1-n2\n",
        "  elif opp == '*':\n",
        "    return n1*n2\n",
        "  else :\n",
        "    return n1/n2"
      ],
      "metadata": {
        "id": "9tNluJ1jL2-N"
      },
      "execution_count": 9,
      "outputs": []
    },
    {
      "cell_type": "code",
      "execution_count": 26,
      "metadata": {
        "colab": {
          "base_uri": "https://localhost:8080/"
        },
        "id": "W-YMgRIfHrLc",
        "outputId": "8f914fa6-4f84-41ae-9220-30c0ba8a3c60"
      },
      "outputs": [
        {
          "output_type": "stream",
          "name": "stdout",
          "text": [
            "Enter 1st Number : 78\n",
            "select the operation from list \n",
            " + \n",
            " - \n",
            " * \n",
            " / \n",
            "+\n",
            "Enter 2nd Number : 2\n",
            "78 + 2 = 80\n",
            "Do you want to do Operation With Result ? Type Y if Yesm\n",
            "Ok-Bye\n"
          ]
        }
      ],
      "source": [
        "is_first = True\n",
        "while 1 :\n",
        "  if is_first:\n",
        "    n1 = input('Enter 1st Number : ')\n",
        "    try :\n",
        "      num1 = int(n1)\n",
        "    except :\n",
        "      print('Calculator Except Only Number Enter Number')\n",
        "      continue\n",
        "\n",
        "  while 1 :\n",
        "    opp = input('select the operation from list \\n + \\n - \\n * \\n / \\n')\n",
        "    if opp not in ('+','/','-','*'):\n",
        "      print('Enter Correct Operator')\n",
        "      continue\n",
        "    else :\n",
        "      break\n",
        "\n",
        "  while 1 :\n",
        "    n2 = input('Enter 2nd Number : ')\n",
        "    try :\n",
        "      num2 = int(n2)\n",
        "      break\n",
        "    except :\n",
        "      print('Calculator Except Only Number Enter Number')\n",
        "    continue\n",
        "\n",
        "  result = calculation(opp,num1,num2)\n",
        "  print(f'{num1} {opp} {num2} = {result}')\n",
        "  go_again = input('Do you want to do Operation With Result ? Type Y if Yes').lower()\n",
        "  if go_again == 'y':\n",
        "    is_first = False\n",
        "    num1 = result\n",
        "    clear_output()\n",
        "    continue\n",
        "  else :\n",
        "    print('Ok-Bye')\n",
        "    break"
      ]
    },
    {
      "cell_type": "code",
      "source": [
        "calculation('+',78,2)"
      ],
      "metadata": {
        "colab": {
          "base_uri": "https://localhost:8080/"
        },
        "id": "2_KCQQ7jO4DU",
        "outputId": "9d60b16e-1ff7-49ce-efaa-09202a58ec0a"
      },
      "execution_count": 13,
      "outputs": [
        {
          "output_type": "execute_result",
          "data": {
            "text/plain": [
              "80"
            ]
          },
          "metadata": {},
          "execution_count": 13
        }
      ]
    }
  ]
}