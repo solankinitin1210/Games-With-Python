{
  "nbformat": 4,
  "nbformat_minor": 0,
  "metadata": {
    "colab": {
      "provenance": [],
      "authorship_tag": "ABX9TyNNlE88sYHeduaPKDHW9+5r",
      "include_colab_link": true
    },
    "kernelspec": {
      "name": "python3",
      "display_name": "Python 3"
    },
    "language_info": {
      "name": "python"
    }
  },
  "cells": [
    {
      "cell_type": "markdown",
      "metadata": {
        "id": "view-in-github",
        "colab_type": "text"
      },
      "source": [
        "<a href=\"https://colab.research.google.com/github/solankinitin1210/Games-With-Python/blob/main/BlackJack%20Game%20With%20Python.ipynb\" target=\"_parent\"><img src=\"https://colab.research.google.com/assets/colab-badge.svg\" alt=\"Open In Colab\"/></a>"
      ]
    },
    {
      "cell_type": "markdown",
      "source": [
        "**What Is Blackjack Game ?**\n",
        "\n",
        "Blackjack is a casino banking game. It is the most widely played casino banking game in the world. It uses decks of 52 cards and descends from a global family of casino banking games known as \"twenty-one\".The game is a comparing card game where each player competes against the dealer.\n",
        "\n",
        "Blackjack is an incredibly popular, exciting and easy card game to play. The object is to have a hand with a total value higher than the dealer’s without going over 21. Kings, Queens, Jacks and Tens are worth a value of 10. An Ace has the value of 1 or 11. The remaining cards are counted at face value.\n",
        "\n",
        "**HOW TO PLAY**\n",
        "\n",
        "\n",
        "* Place a bet in the betting areas marked on the table. You and fellow players are dealt two cards each whilst the dealer is dealt one face up. If your first 2 cards add up to 21 (an Ace and a card valued 10), that’s Blackjack! If they have any other total, decide whether you wish to ‘draw’ or ‘stay’. You can continue to draw cards until you are happy with your hand.\n",
        "* You may “Double” your original stake on any two-card combination, however, you will only receive one more card. You can also “Split” any pair (including any two cards with a value of 10) by placing an additional bet equal to your original. You will then be dealt an additional card to each of your split cards to create two new hands. If Aces are split, you only receive 1 additional card for each Ace. If you split Aces and a 10/picture card is drawn, the total is 21, not Blackjack. If the Dealer has an Ace as their first card, you may stake up to half of your original bet as “Insurance“. This covers your bet if the dealer gets blackjack. If the dealer does get blackjack (drawing 10 as their 2nd card), Insurance wins and will be paid out 2:1.\n",
        "\n",
        "* Once all players have taken their turn the dealer draws another card for their hand. They must draw until they reach 17 or more.\n",
        "\n",
        "\n",
        "############### Our Blackjack House Rules #####################\n",
        "\n",
        "- The deck is unlimited in size.\n",
        "- There are no jokers.\n",
        "- The Jack/Queen/King all count as 10.\n",
        "- The the Ace can count as 11 or 1.\n",
        "- Use the following list as the deck of cards:\n",
        "- cards = [11, 2, 3, 4, 5, 6, 7, 8, 9, 10, 10, 10, 10]\n",
        "- The cards in the list have equal probability of being drawn.\n",
        "- Cards are not removed from the deck as they are drawn."
      ],
      "metadata": {
        "id": "Y_7Cf_HVNY16"
      }
    },
    {
      "cell_type": "code",
      "source": [
        "import random\n",
        "from IPython.display import clear_output\n",
        "\n",
        "logo = \"\"\"\n",
        ".------.            _     _            _    _            _\n",
        "|A_  _ |.          | |   | |          | |  (_)          | |\n",
        "|( \\/ ).-----.     | |__ | | __ _  ___| | ___  __ _  ___| | __\n",
        "| \\  /|K /\\  |     | '_ \\| |/ _` |/ __| |/ / |/ _` |/ __| |/ /\n",
        "|  \\/ | /  \\ |     | |_) | | (_| | (__|   <| | (_| | (__|   <\n",
        "`-----| \\  / |     |_.__/|_|\\__,_|\\___|_|\\_\\ |\\__,_|\\___|_|\\_\\\\\n",
        "      |  \\/ K|                            _/ |\n",
        "      `------'                           |__/\n",
        "\"\"\""
      ],
      "metadata": {
        "id": "2on6ZSaoTRNj"
      },
      "execution_count": null,
      "outputs": []
    },
    {
      "cell_type": "code",
      "execution_count": null,
      "metadata": {
        "id": "cJs8eJtMSqHk"
      },
      "outputs": [],
      "source": [
        "cards = [11,2,3,4,5,6,7,8,9,10,10,10,10]"
      ]
    },
    {
      "cell_type": "code",
      "source": [
        "def hit(x):\n",
        "  x.append(random.choice(cards))\n",
        "  return x\n",
        "\n",
        "def check_ace (y):\n",
        "  if 11 in y and sum(y)>21 :\n",
        "    y[y.index(11)]= 1\n",
        "  return y\n",
        "\n",
        "def check_21(z):\n",
        "  if sum(z) > 21:\n",
        "    return True\n",
        "  else :\n",
        "    return False\n",
        "\n",
        "def check_blackjack(w):\n",
        "  if sum(w) == 21:\n",
        "    return True\n",
        "  else :\n",
        "    return False\n",
        "\n",
        "def check_17(v):\n",
        "  if sum(v) < 17:\n",
        "    return True\n",
        "  else :\n",
        "    return False\n",
        "\n"
      ],
      "metadata": {
        "id": "U8yMbOnoTlN7"
      },
      "execution_count": null,
      "outputs": []
    },
    {
      "cell_type": "code",
      "source": [
        "game_over = False\n",
        "print(logo)\n",
        "while not game_over :\n",
        "\n",
        "  user = []\n",
        "  comp = []\n",
        "  hit(user)\n",
        "  hit(user)\n",
        "  hit(comp)\n",
        "\n",
        "  user = check_ace(user)\n",
        "  if check_blackjack(user) :\n",
        "    print(f'Your Card {user} Score {sum(user)}')\n",
        "    print(f'Computer Card {comp} Score {sum(comp)}')\n",
        "    print('You won the Game')\n",
        "\n",
        "  else :\n",
        "    while not check_21(user):\n",
        "      print(f'Your Card {user} Score {sum(user)}')\n",
        "      print(f'Computer Card {comp} Score {sum(comp)}')\n",
        "      user_in = input('Do you wan to hit ? press Y it Yes : ').lower()\n",
        "      if user_in == 'y':\n",
        "        user = hit(user)\n",
        "        user= check_ace(user)\n",
        "      else :\n",
        "        break\n",
        "\n",
        "    while check_17(comp):\n",
        "      comp = hit(comp)\n",
        "\n",
        "    if sum(user) == sum(comp) :\n",
        "      print('Draw')\n",
        "    elif sum(user) >21 :\n",
        "      print('You Lose')\n",
        "    elif sum(user) == 21 :\n",
        "      print('You Won')\n",
        "    elif sum(comp) >21 :\n",
        "      print('You Won')\n",
        "    elif sum(user) < sum(comp) :\n",
        "      print('You Lose')\n",
        "    else :\n",
        "      print('You Won')\n",
        "    print(user,comp)\n",
        "\n",
        "  if input('You want to play another game ? Y for yes :').lower() == 'y':\n",
        "    clear_output()\n",
        "    continue\n",
        "  else :\n",
        "    game_over = True\n",
        "    print('Ok Bye!')"
      ],
      "metadata": {
        "colab": {
          "base_uri": "https://localhost:8080/"
        },
        "id": "HwrKErqZTIKr",
        "outputId": "5add7144-ad35-412d-d9df-58eee8744406"
      },
      "execution_count": null,
      "outputs": [
        {
          "output_type": "stream",
          "name": "stdout",
          "text": [
            "Your Card [7, 10] Score 17\n",
            "Computer Card [2] Score 2\n",
            "Do you wan to hit ? press Y it Yes : h\n",
            "You Lose\n",
            "[7, 10] [2, 8, 8]\n",
            "You want to play another game ? Y for yes :n\n",
            "Ok Bye!\n"
          ]
        }
      ]
    }
  ]
}